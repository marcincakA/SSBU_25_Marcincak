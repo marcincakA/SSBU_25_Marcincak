{
 "cells": [
  {
   "cell_type": "markdown",
   "id": "6854f873-5d15-4d3c-a71b-8858b7de6d12",
   "metadata": {},
   "source": [
    "## Zadanie 1 (5b)\n",
    "\n",
    "V tomto zadaní budete pracovať s datasetom Heart Failure Clinical Records, ktorý obsahuje záznamy pacientov so zlyhaním srdca, zozbierané počas obdobia ich sledovania.\n",
    "\n",
    "Dataset je dostupný online: https://archive.ics.uci.edu/dataset/519/heart+failure+clinical+records\n",
    "\n",
    "Na stránke nájdete aj doplňujúce informácie o premenných, ktoré dataset obsahuje. (Odporúčam prečítať :) )\n",
    "\n",
    "**Body dostanete za odpovede na zvýraznené otázky**\n"
   ]
  },
  {
   "cell_type": "markdown",
   "id": "8af7058b-20cf-4ece-8c7f-e2f38c33e94f",
   "metadata": {},
   "source": [
    "### Úloha 1 (1b)"
   ]
  },
  {
   "cell_type": "markdown",
   "id": "8ceeaa27-3e3e-4b13-9251-2a375fc948d1",
   "metadata": {},
   "source": "Načítajte dataset do premennej `data_hf`."
  },
  {
   "metadata": {
    "ExecuteTime": {
     "end_time": "2025-03-19T20:58:41.886653Z",
     "start_time": "2025-03-19T20:58:41.830236Z"
    }
   },
   "cell_type": "code",
   "source": [
    "import pandas as pd\n",
    "\n",
    "data_hf = pd.read_csv('heart+failure+clinical+records.zip')\n",
    "print(data_hf.duplicated().any())"
   ],
   "id": "6fac61335164d6f4",
   "outputs": [
    {
     "ename": "ModuleNotFoundError",
     "evalue": "No module named 'pandas'",
     "output_type": "error",
     "traceback": [
      "\u001B[31m---------------------------------------------------------------------------\u001B[39m",
      "\u001B[31mModuleNotFoundError\u001B[39m                       Traceback (most recent call last)",
      "\u001B[36mCell\u001B[39m\u001B[36m \u001B[39m\u001B[32mIn[2]\u001B[39m\u001B[32m, line 1\u001B[39m\n\u001B[32m----> \u001B[39m\u001B[32m1\u001B[39m \u001B[38;5;28;01mimport\u001B[39;00m\u001B[38;5;250m \u001B[39m\u001B[34;01mpandas\u001B[39;00m\u001B[38;5;250m \u001B[39m\u001B[38;5;28;01mas\u001B[39;00m\u001B[38;5;250m \u001B[39m\u001B[34;01mpd\u001B[39;00m\n\u001B[32m      3\u001B[39m data_hf = pd.read_csv(\u001B[33m'\u001B[39m\u001B[33mheart+failure+clinical+records.zip\u001B[39m\u001B[33m'\u001B[39m)\n\u001B[32m      4\u001B[39m \u001B[38;5;28mprint\u001B[39m(data_hf.duplicated().any())\n",
      "\u001B[31mModuleNotFoundError\u001B[39m: No module named 'pandas'"
     ]
    }
   ],
   "execution_count": 2
  },
  {
   "cell_type": "markdown",
   "id": "31431105-076e-45cb-b601-024fb88968ca",
   "metadata": {},
   "source": [
    "   **Obsahuje dataset chýbajúce hodnoty (NA) ?**"
   ]
  },
  {
   "cell_type": "raw",
   "id": "87207cc0-87e1-44fc-907a-00d090224c04",
   "metadata": {},
   "source": "# Stranka hovori ze nie"
  },
  {
   "cell_type": "markdown",
   "id": "0758892b-bfa0-490f-8da2-958df68ad526",
   "metadata": {},
   "source": [
    "**Aký typ majú vybrané premenné v datasete ? (numerické/kategorické)** (Ak by ste si pri niektorých premenných neboli istí, zdôvodnite svoju odpoveď.)\n",
    "\n",
    "- age\n",
    "- anaemia \n",
    "- high_blood_pressure\n",
    "- serum_sodium\n",
    "- death_event"
   ]
  },
  {
   "cell_type": "raw",
   "id": "7edd44a4-9bce-472e-88cc-1bae5b5c8443",
   "metadata": {},
   "source": [
    "# age= numericka\n",
    "# anaemia=int64 (ale ulozene hodnoty iba 0-1) -> kategoricka,\n",
    "# high_blood_pressure=int64 (ale ulozene hodnoty iba 0-1) -> kategoricka,\n",
    "# serum_sodium=int64 numericka,\n",
    "# death_event=int64 -> kategoricka"
   ]
  },
  {
   "cell_type": "markdown",
   "id": "22304314-9212-490d-a44b-62c2412888a9",
   "metadata": {},
   "source": [
    "**Obsahuje dataset duplicitné záznamy?**"
   ]
  },
  {
   "cell_type": "raw",
   "id": "a9e6f530-ac31-4c07-b88c-e8125a423097",
   "metadata": {},
   "source": "Nie"
  },
  {
   "cell_type": "markdown",
   "id": "96a14512-f20f-499c-8398-d7cd3e6d1289",
   "metadata": {},
   "source": [
    "### Úloha 2 (1b)\n",
    "\n",
    "Skúmajte premennú pohlavie ('sex'). Premenná je kódovaná hodnotami 0 a 1. ( 0 = žena, 1 = muž)"
   ]
  },
  {
   "metadata": {
    "jupyter": {
     "is_executing": true
    }
   },
   "cell_type": "code",
   "source": [
    "print(data_hf['sex'].value_counts())\n",
    "print(data_hf['smoking'].value_counts())\n",
    "#pd.crosstab(data_hf['sex'], data_hf['smoking'])\n",
    "data_hf.groupby('sex')['smoking'].value_counts()"
   ],
   "id": "97c7494317e7c82e",
   "outputs": [],
   "execution_count": null
  },
  {
   "cell_type": "markdown",
   "id": "d7789c28-0857-4a4b-b89e-6bfc9569191f",
   "metadata": {},
   "source": [
    "**Koľko záznamov mužov a žien obsahuje dataset?**"
   ]
  },
  {
   "cell_type": "raw",
   "id": "b52c7e12-3a4f-4b97-a98c-e6d2e42080a2",
   "metadata": {},
   "source": "#  194 muzov a 105 zien"
  },
  {
   "cell_type": "markdown",
   "id": "4f9085d2-e941-422b-b7f8-5708c0cdce73",
   "metadata": {},
   "source": [
    "**Koľko mužov a žien je nefajčiarov ? (0 = nefajčiar, 1 = fajčiar)**"
   ]
  },
  {
   "cell_type": "raw",
   "id": "6516093e-72d8-46ab-9fb6-6aaceead23a0",
   "metadata": {},
   "source": "# zien 101 nefajciarov, muzov 102 nefajciarov"
  },
  {
   "cell_type": "markdown",
   "id": "ba365496-6912-408d-bcfc-a7f2993c148e",
   "metadata": {},
   "source": [
    "### Úloha 3 (1b)\n",
    "\n",
    "Popíšte premennú vek ('age')."
   ]
  },
  {
   "metadata": {
    "ExecuteTime": {
     "end_time": "2025-03-19T20:04:20.752230Z",
     "start_time": "2025-03-19T20:04:20.736716Z"
    }
   },
   "cell_type": "code",
   "source": [
    "data_hf['age'].describe()\n",
    "data_hf['age'].value_counts()"
   ],
   "id": "d496c96bba90d2b8",
   "outputs": [
    {
     "data": {
      "text/plain": [
       "age\n",
       "60.000    33\n",
       "50.000    27\n",
       "65.000    26\n",
       "70.000    25\n",
       "45.000    19\n",
       "55.000    17\n",
       "75.000    11\n",
       "58.000    10\n",
       "53.000    10\n",
       "63.000     8\n",
       "80.000     7\n",
       "72.000     7\n",
       "42.000     7\n",
       "40.000     7\n",
       "85.000     6\n",
       "68.000     5\n",
       "62.000     5\n",
       "52.000     5\n",
       "61.000     4\n",
       "49.000     4\n",
       "73.000     4\n",
       "51.000     4\n",
       "59.000     4\n",
       "69.000     3\n",
       "46.000     3\n",
       "82.000     3\n",
       "90.000     3\n",
       "64.000     3\n",
       "48.000     2\n",
       "78.000     2\n",
       "95.000     2\n",
       "57.000     2\n",
       "54.000     2\n",
       "77.000     2\n",
       "67.000     2\n",
       "66.000     2\n",
       "44.000     2\n",
       "60.667     2\n",
       "87.000     1\n",
       "79.000     1\n",
       "41.000     1\n",
       "94.000     1\n",
       "86.000     1\n",
       "81.000     1\n",
       "43.000     1\n",
       "47.000     1\n",
       "56.000     1\n",
       "Name: count, dtype: int64"
      ]
     },
     "execution_count": 82,
     "metadata": {},
     "output_type": "execute_result"
    }
   ],
   "execution_count": 82
  },
  {
   "cell_type": "markdown",
   "id": "fb2d9df9-7a57-414c-a13f-095acc8bb550",
   "metadata": {},
   "source": [
    "**Aký je minimálny, maximálny a priemerný vek pacientov v datasete?**"
   ]
  },
  {
   "cell_type": "raw",
   "id": "08599e0e-d183-4b31-a224-8f1288bcc12b",
   "metadata": {},
   "source": "# min=40, max=95, priemer=60.83"
  },
  {
   "cell_type": "markdown",
   "id": "65cf63d5-1b33-4d5e-9ce3-c99b01c2f588",
   "metadata": {},
   "source": [
    "**Z akého veku je v datasete najviac záznamov?**"
   ]
  },
  {
   "cell_type": "raw",
   "id": "33ffe607-c8ad-4368-a0ad-5de841c5851a",
   "metadata": {},
   "source": "# 60 rokov"
  },
  {
   "cell_type": "markdown",
   "id": "6b93d9ab-556a-446f-a880-a5ab7743a96a",
   "metadata": {},
   "source": [
    "### Úloha 4 (1b)\n",
    "\n",
    "Pridajte do datasetu novú premennú s názvom `risk`, ktorá bude predstavovať riziko úmrtia pacienta po zlyhaní srdca. Táto premenná bude kategorická a bude obsahovať hodnoty 'Low' a 'High'. \n",
    "Premennú vytvorte na základe if-else rozhodovania podľa premenných 'age' a 'serum_creatinine':\n",
    "\n",
    "- Ak je vek pacienta väčší ako 50 a zároveň level kreatinínu v krvnom sére ('serum_creatinine') je väčší ako 1.2 mg/dL, tak hodnota premennej 'Risk' je 'High'.\n",
    "- V opačnom prípade je hodnota 'Low'\n",
    "\n",
    "Hint: môžete použiť metódu `apply` na vytvorenie novej premennej, v ktorej použijete lambda funkciu na definovanie podmienok."
   ]
  },
  {
   "metadata": {
    "ExecuteTime": {
     "end_time": "2025-03-19T19:37:45.742516Z",
     "start_time": "2025-03-19T19:37:44.735442Z"
    }
   },
   "cell_type": "code",
   "source": [
    "import matplotlib.pyplot as plt\n",
    "# Add the 'risk' variable\n",
    "data_hw['risk'] = data_hw.apply(lambda row: 'High' if row['age'] > 50 and row['serum_creatinine'] > 1.2 else 'Low', axis=1)\n",
    "\n",
    "# Visualize high risk by age\n",
    "\n",
    "\n",
    "high_risk = data_hw[data_hw['risk'] == 'High']\n",
    "plt.hist(high_risk['age'], bins='auto')\n",
    "plt.title('High Risk by Age')\n",
    "plt.xlabel('Age')\n",
    "plt.ylabel('Frequency')\n",
    "plt.show()"
   ],
   "id": "7188f1a6042ef8a3",
   "outputs": [
    {
     "ename": "NameError",
     "evalue": "name 'data_hw' is not defined",
     "output_type": "error",
     "traceback": [
      "\u001B[1;31m---------------------------------------------------------------------------\u001B[0m",
      "\u001B[1;31mNameError\u001B[0m                                 Traceback (most recent call last)",
      "Cell \u001B[1;32mIn[23], line 3\u001B[0m\n\u001B[0;32m      1\u001B[0m \u001B[38;5;28;01mimport\u001B[39;00m\u001B[38;5;250m \u001B[39m\u001B[38;5;21;01mmatplotlib\u001B[39;00m\u001B[38;5;21;01m.\u001B[39;00m\u001B[38;5;21;01mpyplot\u001B[39;00m\u001B[38;5;250m \u001B[39m\u001B[38;5;28;01mas\u001B[39;00m\u001B[38;5;250m \u001B[39m\u001B[38;5;21;01mplt\u001B[39;00m\n\u001B[0;32m      2\u001B[0m \u001B[38;5;66;03m# Add the 'risk' variable\u001B[39;00m\n\u001B[1;32m----> 3\u001B[0m data_hw[\u001B[38;5;124m'\u001B[39m\u001B[38;5;124mrisk\u001B[39m\u001B[38;5;124m'\u001B[39m] \u001B[38;5;241m=\u001B[39m \u001B[43mdata_hw\u001B[49m\u001B[38;5;241m.\u001B[39mapply(\u001B[38;5;28;01mlambda\u001B[39;00m row: \u001B[38;5;124m'\u001B[39m\u001B[38;5;124mHigh\u001B[39m\u001B[38;5;124m'\u001B[39m \u001B[38;5;28;01mif\u001B[39;00m row[\u001B[38;5;124m'\u001B[39m\u001B[38;5;124mage\u001B[39m\u001B[38;5;124m'\u001B[39m] \u001B[38;5;241m>\u001B[39m \u001B[38;5;241m50\u001B[39m \u001B[38;5;129;01mand\u001B[39;00m row[\u001B[38;5;124m'\u001B[39m\u001B[38;5;124mserum_creatinine\u001B[39m\u001B[38;5;124m'\u001B[39m] \u001B[38;5;241m>\u001B[39m \u001B[38;5;241m1.2\u001B[39m \u001B[38;5;28;01melse\u001B[39;00m \u001B[38;5;124m'\u001B[39m\u001B[38;5;124mLow\u001B[39m\u001B[38;5;124m'\u001B[39m, axis\u001B[38;5;241m=\u001B[39m\u001B[38;5;241m1\u001B[39m)\n\u001B[0;32m      5\u001B[0m \u001B[38;5;66;03m# Visualize high risk by age\u001B[39;00m\n\u001B[0;32m      8\u001B[0m high_risk \u001B[38;5;241m=\u001B[39m data_hw[data_hw[\u001B[38;5;124m'\u001B[39m\u001B[38;5;124mrisk\u001B[39m\u001B[38;5;124m'\u001B[39m] \u001B[38;5;241m==\u001B[39m \u001B[38;5;124m'\u001B[39m\u001B[38;5;124mHigh\u001B[39m\u001B[38;5;124m'\u001B[39m]\n",
      "\u001B[1;31mNameError\u001B[0m: name 'data_hw' is not defined"
     ]
    }
   ],
   "execution_count": 23
  },
  {
   "metadata": {},
   "cell_type": "markdown",
   "source": [
    "Vizualizujte vysoké riziko úmrtia pre jednotlivé vekové skupiny histogramom:\n",
    "\n",
    "Hint: Použite metódu `hist` z knižnice `matplotlib.pyplot` na vizualizáciu distribúcie veku pre pacientov s vysokým rizikom úmrtia."
   ],
   "id": "8b379949ee966138"
  },
  {
   "metadata": {},
   "cell_type": "code",
   "source": "# TODO",
   "id": "21d1661714154e7e",
   "outputs": [],
   "execution_count": null
  },
  {
   "cell_type": "markdown",
   "id": "beb9312b-dd82-46bb-89b0-ccb6dd2b8106",
   "metadata": {},
   "source": [
    "**V akom veku je riziko zlyhania srdca najväčšie?**"
   ]
  },
  {
   "cell_type": "raw",
   "id": "f7fac42f-41e9-4243-ae91-8bbb5b3d8f27",
   "metadata": {},
   "source": [
    "# TODO"
   ]
  },
  {
   "cell_type": "markdown",
   "id": "9ba90f86-6bdb-4f53-9c45-7284ff510535",
   "metadata": {},
   "source": [
    "**Koľko záznamov (približne) je v datasete v tejto vekovej kategórii?**"
   ]
  },
  {
   "cell_type": "raw",
   "id": "c71eec00-b410-42fa-89f5-788a2671be60",
   "metadata": {},
   "source": [
    "# TODO"
   ]
  },
  {
   "cell_type": "markdown",
   "id": "f5c0ddad-7e6c-4726-b729-3cfb349ee0b8",
   "metadata": {},
   "source": [
    "### Úloha 5 (1b)\n",
    "\n",
    "Analyzujte koreláciu medzi všetkými atribútmi tohto datasetu (napr. vytvorením correlation plot)\n",
    "\n",
    "Hint: Nenumerické atribúty môžete pred vytvorením korelačnej matice odstrániť.\n"
   ]
  },
  {
   "metadata": {},
   "cell_type": "code",
   "source": "# TODO",
   "id": "2aa5690bac0652c8",
   "outputs": [],
   "execution_count": null
  },
  {
   "cell_type": "markdown",
   "id": "7964b789-3e0c-4478-a270-028d98af3994",
   "metadata": {},
   "source": [
    "**Ktoré atribúty majú medzi sebou najväčšiu zápornú koreláciu?** (uveďte prvé dve dvojice)"
   ]
  },
  {
   "cell_type": "raw",
   "id": "5f1781b1-32f1-442e-91bf-82aefbae6dde",
   "metadata": {},
   "source": [
    "# TODO"
   ]
  },
  {
   "cell_type": "markdown",
   "id": "45ccd281-4c3a-437b-9fea-a8433d6145ea",
   "metadata": {},
   "source": [
    "**Ktoré atribúty majú medzi sebou najväčšiu kladnú koreláciu?** (uveďte prvú dvojicu)"
   ]
  },
  {
   "cell_type": "raw",
   "id": "d6304b62-d65f-412e-bc2c-f57219a910d9",
   "metadata": {},
   "source": [
    "# TODO"
   ]
  },
  {
   "cell_type": "markdown",
   "id": "4afda479-3c32-4956-b59f-c53c450a42ba",
   "metadata": {},
   "source": [
    "----\n",
    "\n",
    "Viac informácií o zlyhaní srdca: https://www.nhlbi.nih.gov/health/heart-failure"
   ]
  }
 ],
 "metadata": {
  "kernelspec": {
   "display_name": "Python 3 (ipykernel)",
   "language": "python",
   "name": "python3"
  },
  "language_info": {
   "codemirror_mode": "r",
   "file_extension": ".r",
   "mimetype": "text/x-r-source",
   "name": "R",
   "pygments_lexer": "r",
   "version": "4.3.2"
  }
 },
 "nbformat": 4,
 "nbformat_minor": 5
}
